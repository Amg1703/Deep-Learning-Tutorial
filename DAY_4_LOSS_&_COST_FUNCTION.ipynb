{
  "nbformat": 4,
  "nbformat_minor": 0,
  "metadata": {
    "colab": {
      "provenance": []
    },
    "kernelspec": {
      "name": "python3",
      "display_name": "Python 3"
    },
    "language_info": {
      "name": "python"
    }
  },
  "cells": [
    {
      "cell_type": "markdown",
      "source": [
        "\n",
        "\n",
        "> LOSS & COST FUNCTION\n",
        "\n"
      ],
      "metadata": {
        "id": "ucPQqBrdYgTx"
      }
    },
    {
      "cell_type": "code",
      "execution_count": 1,
      "metadata": {
        "id": "0RracXYYYdlT"
      },
      "outputs": [],
      "source": [
        "# MEAN ABSOLUTE ERROR :- 1/N SUMOF (Y_TRUE-Y_PREDICTED)"
      ]
    },
    {
      "cell_type": "code",
      "source": [
        "import numpy as np"
      ],
      "metadata": {
        "id": "xrW_l2kYY1aV"
      },
      "execution_count": 2,
      "outputs": []
    },
    {
      "cell_type": "code",
      "source": [
        "Y_predicted=np.array([1,1,0,0,1])\n",
        "Y_true=np.array([0.30,0.7,1,0,0.5])"
      ],
      "metadata": {
        "id": "q3KV6pr3ZE50"
      },
      "execution_count": 3,
      "outputs": []
    },
    {
      "cell_type": "code",
      "source": [
        "def mean_absolute_error(Y_true,Y_predicted):\n",
        "  total_error=0 # INITIALIZING A VARIABLE TO STORE ABSOLUTE DIFFERENCE OF TRUE AND PREDICTED FOR EACH ITERATION\n",
        "  for yt,yp in zip(Y_true,Y_predicted): # ZIP FUNCTION IS USED TO TAKE IN 2 OR VARIABLE VARIABLES\n",
        "    total_error+=abs(yp-yt) # TAKING THE ABSOLUTE DIFFERENCE BETWEEN TRUE AND PREDICTED AND STORING THEM IN TOTAL ERROR AND WITH EACH ITERATION THE SUM OF DIFFERENCE IS ADDED\n",
        "  print('Total Error:',total_error)\n",
        "  print('Mean Absolute Error:', total_error/len(Y_true)) # SINCE IT IS 1/N X TOTAL ERROR AND SINCE Y_TRUE AND Y_PREDICTED HAVE THE SAME NUMBER OF DATAS"
      ],
      "metadata": {
        "id": "Tq4WfzOIY3kP"
      },
      "execution_count": 4,
      "outputs": []
    },
    {
      "cell_type": "code",
      "source": [
        "mean_absolute_error(Y_true,Y_predicted)"
      ],
      "metadata": {
        "colab": {
          "base_uri": "https://localhost:8080/"
        },
        "id": "dw96pBmYY-Je",
        "outputId": "6c1d25e8-5cb2-4236-c84d-7c861ecc1ef5"
      },
      "execution_count": 5,
      "outputs": [
        {
          "output_type": "stream",
          "name": "stdout",
          "text": [
            "Total Error: 2.5\n",
            "Mean Absolute Error: 0.5\n"
          ]
        }
      ]
    },
    {
      "cell_type": "code",
      "source": [
        "# SO THE PROBLEM WITH LOG FUNCTION IS THAT LOG(O) IS UNDEFINED OR INFINITY\n",
        "np.log([0])"
      ],
      "metadata": {
        "colab": {
          "base_uri": "https://localhost:8080/"
        },
        "id": "PRjUa_Ugbd71",
        "outputId": "19e7c702-b84e-443d-90cd-5bef8b402deb"
      },
      "execution_count": 6,
      "outputs": [
        {
          "output_type": "stream",
          "name": "stderr",
          "text": [
            "/tmp/ipython-input-2933315592.py:2: RuntimeWarning: divide by zero encountered in log\n",
            "  np.log([0])\n"
          ]
        },
        {
          "output_type": "execute_result",
          "data": {
            "text/plain": [
              "array([-inf])"
            ]
          },
          "metadata": {},
          "execution_count": 6
        }
      ]
    },
    {
      "cell_type": "code",
      "source": [
        "# IMPLEMENTING MEAN ABSOLUTE ERROR USING NUMPY\n",
        "def mean_absolute_error_numpy(Y_true,Y_predicted):\n",
        "  print('Total Error:',np.sum(abs(Y_true-Y_predicted)))\n",
        "  print('Mean Absolute Error using Numpy:',np.mean(abs(Y_true-Y_predicted)))\n",
        "mean_absolute_error_numpy(Y_true,Y_predicted)"
      ],
      "metadata": {
        "colab": {
          "base_uri": "https://localhost:8080/"
        },
        "id": "Bg_Q4QYWciOQ",
        "outputId": "061a0d42-4b64-4442-cbfe-993131e216a6"
      },
      "execution_count": 7,
      "outputs": [
        {
          "output_type": "stream",
          "name": "stdout",
          "text": [
            "Total Error: 2.5\n",
            "Mean Absolute Error using Numpy: 0.5\n"
          ]
        }
      ]
    },
    {
      "cell_type": "code",
      "source": [
        "# FORMULA FOR LOG LOSS FUNCTION OR BINARY CROSS ENTROPY\n",
        "# BINARY CROSS ENTROPY OR LOG LOSS = -1/N SUMOF ( Y_TRUE*LOG(Y_PREDICTED) + (1-Y_TRUE).LOG(1-Y_PREDICTED))"
      ],
      "metadata": {
        "id": "jdh5vNcIcUaV"
      },
      "execution_count": 8,
      "outputs": []
    },
    {
      "cell_type": "code",
      "source": [
        "# NOW WHEN Y_PREDICTED IS 1 1-1 = 0 WHICH WILL IN TURN RETURN UNDEFINED AS THE LOG ANSWER\n",
        "# SO WE NEED TO CHOOSE A VALUE CLOSE 1 AND 0 SUCH 0.999999999999 AND 0.000000001"
      ],
      "metadata": {
        "id": "24BkKybXeRya"
      },
      "execution_count": 9,
      "outputs": []
    },
    {
      "cell_type": "code",
      "source": [
        "epsilon=1e-15"
      ],
      "metadata": {
        "id": "iKK-pLekepuv"
      },
      "execution_count": 10,
      "outputs": []
    },
    {
      "cell_type": "code",
      "source": [
        "def log_loss_function(Y_predicted,Y_true):\n",
        "  total_error=0\n",
        "  Y_predicted_sub=0\n",
        "  for yp,yt in zip(Y_predicted,Y_true):\n",
        "    if yp==1:\n",
        "      Y_predicted_sub=yp-epsilon\n",
        "    elif yp==0:\n",
        "      Y_predicted_sub=epsilon\n",
        "    total_error+=yt*np.log(Y_predicted_sub)+(1-yt)*np.log(1-Y_predicted_sub)\n",
        "  print('Total Error:',total_error)\n",
        "  print('Log Loss Function:', -total_error/len(Y_true))"
      ],
      "metadata": {
        "id": "O8f4KG4je71M"
      },
      "execution_count": 11,
      "outputs": []
    },
    {
      "cell_type": "code",
      "source": [
        "log_loss_function(Y_predicted,Y_true)"
      ],
      "metadata": {
        "colab": {
          "base_uri": "https://localhost:8080/"
        },
        "id": "h2RJpuHEfTva",
        "outputId": "cf6d8a7d-567b-4def-f30b-7b2eef266b97"
      },
      "execution_count": 12,
      "outputs": [
        {
          "output_type": "stream",
          "name": "stdout",
          "text": [
            "Total Error: -86.34814038342199\n",
            "Log Loss Function: 17.2696280766844\n"
          ]
        }
      ]
    },
    {
      "cell_type": "code",
      "source": [
        "def binary_crossentropy_numpy(Y_true,Y_predicted):\n",
        "  Y_predicted_new=[]\n",
        "  for yt in Y_predicted:\n",
        "    Y_predicted_new=[max(yt,epsilon)] # FIRST WE COMPARING 0 AND 1E-15 TO REPLACE O WITH 1E-15 BUT NOW THE 1 REMAINS IN THE LIST\n",
        "  for yt in Y_predicted_new:\n",
        "    Y_predicted_new=[min(yt,yt-epsilon)] # WE ARE NOW COMPARING MINIMUM OF 1 AND 1E-15 TO REPLACE 1 WITH 1-1E-15\n",
        "  Y_predicted_new=np.array(Y_predicted_new)\n",
        "  print('Total Error:', -np.sum(Y_true*np.log(Y_predicted_new)+(1-Y_true)*np.log(1-Y_predicted_new)))\n",
        "  print('Log Loss Error:', -np.mean(sum(Y_true*np.log(Y_predicted_new))+(1-Y_true)*np.log(1-Y_predicted_new)))\n",
        "binary_crossentropy_numpy(Y_true,Y_predicted)"
      ],
      "metadata": {
        "colab": {
          "base_uri": "https://localhost:8080/"
        },
        "id": "NQp6elEHhq44",
        "outputId": "06bc6c0f-f992-4e3e-c55e-fecc87f8aab4"
      },
      "execution_count": 22,
      "outputs": [
        {
          "output_type": "stream",
          "name": "stdout",
          "text": [
            "Total Error: 86.3489399808522\n",
            "Log Loss Error: 17.269787996170443\n"
          ]
        }
      ]
    },
    {
      "cell_type": "code",
      "source": [
        "# MEAN SQUARED ERROR\n",
        "# FORMULA FOR MEAN SQUARED ERROR :- MSE = 1/N SUMOF(Y_TRUE-Y_PREDICTED)^2"
      ],
      "metadata": {
        "id": "S_xgqi0dIfDL"
      },
      "execution_count": 23,
      "outputs": []
    },
    {
      "cell_type": "code",
      "source": [
        "def mean_squared_error(Y_true,Y_predicted):\n",
        "  total_error=0\n",
        "  for yt,yp in zip(Y_true,Y_predicted):\n",
        "    total_error+=(yt-yp)**2\n",
        "  print('Total_error:', total_error)\n",
        "  mse=total_error/len(Y_true)\n",
        "  print('Mean Squared Error:', mse)\n",
        "\n",
        "mean_squared_error(Y_true,Y_predicted)"
      ],
      "metadata": {
        "colab": {
          "base_uri": "https://localhost:8080/"
        },
        "id": "eRTFmlkuLKRg",
        "outputId": "e7685439-87ca-4fc6-ed17-b2310440ef51"
      },
      "execution_count": 28,
      "outputs": [
        {
          "output_type": "stream",
          "name": "stdout",
          "text": [
            "Total_error: 1.83\n",
            "Mean Squared Error: 0.366\n"
          ]
        }
      ]
    },
    {
      "cell_type": "code",
      "source": [
        "def mean_squared_error_numpy(Y_true,Y_predicted):\n",
        "  print('Total Error:', np.sum((Y_true-Y_predicted)**2))\n",
        "  print('Mean Squared Error:',np.mean(sum(Y_true-Y_predicted)**2))\n",
        "\n",
        "mean_squared_error_numpy(Y_true,Y_predicted)"
      ],
      "metadata": {
        "colab": {
          "base_uri": "https://localhost:8080/"
        },
        "id": "TGYnrvOmMLxe",
        "outputId": "58db5493-e2f0-46b2-f985-b0b239008eeb"
      },
      "execution_count": 30,
      "outputs": [
        {
          "output_type": "stream",
          "name": "stdout",
          "text": [
            "Total Error: 1.83\n",
            "Mean Squared Error: 0.25\n"
          ]
        }
      ]
    },
    {
      "cell_type": "code",
      "source": [],
      "metadata": {
        "id": "1GbdfpbpMu7v"
      },
      "execution_count": null,
      "outputs": []
    }
  ]
}