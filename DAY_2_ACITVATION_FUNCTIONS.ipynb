{
  "nbformat": 4,
  "nbformat_minor": 0,
  "metadata": {
    "colab": {
      "provenance": []
    },
    "kernelspec": {
      "name": "python3",
      "display_name": "Python 3"
    },
    "language_info": {
      "name": "python"
    }
  },
  "cells": [
    {
      "cell_type": "code",
      "execution_count": null,
      "metadata": {
        "id": "dbqntZnEsoC0"
      },
      "outputs": [],
      "source": [
        "import numpy as np\n",
        "import pandas as pd"
      ]
    },
    {
      "cell_type": "code",
      "source": [
        "# SIGMOID FUNCTION\n",
        "# 1 / 1 + e^-Z WHERE Z = MX + C\n",
        "def sigmoid(z):\n",
        "  return 1/(1+np.exp(-z))"
      ],
      "metadata": {
        "id": "wqJWkti9sutW"
      },
      "execution_count": null,
      "outputs": []
    },
    {
      "cell_type": "code",
      "source": [
        "sigmoid(100)"
      ],
      "metadata": {
        "colab": {
          "base_uri": "https://localhost:8080/"
        },
        "id": "ZgqNQT_ltOuS",
        "outputId": "7cdb497d-6f93-4b92-b8cc-a9ba649b2082"
      },
      "execution_count": null,
      "outputs": [
        {
          "output_type": "execute_result",
          "data": {
            "text/plain": [
              "np.float64(1.0)"
            ]
          },
          "metadata": {},
          "execution_count": 3
        }
      ]
    },
    {
      "cell_type": "code",
      "source": [
        "sigmoid(-100)"
      ],
      "metadata": {
        "colab": {
          "base_uri": "https://localhost:8080/"
        },
        "id": "TFVhP85ftTtS",
        "outputId": "c38c0bf1-5930-408c-fddc-0160cc0dc62e"
      },
      "execution_count": null,
      "outputs": [
        {
          "output_type": "execute_result",
          "data": {
            "text/plain": [
              "np.float64(3.7200759760208356e-44)"
            ]
          },
          "metadata": {},
          "execution_count": 4
        }
      ]
    },
    {
      "cell_type": "code",
      "source": [
        "# TANH FUNCTION\n",
        "# TANH (Z) = e^Z - e^-Z / e^Z + e^-Z\n",
        "def tanh(z):\n",
        "  return (np.exp(z)-np.exp(-z))/(np.exp(z)+np.exp(-z))"
      ],
      "metadata": {
        "id": "LsgXS_uetU_a"
      },
      "execution_count": null,
      "outputs": []
    },
    {
      "cell_type": "code",
      "source": [
        "tanh(100)"
      ],
      "metadata": {
        "colab": {
          "base_uri": "https://localhost:8080/"
        },
        "id": "UcHu6Hcht0UM",
        "outputId": "87ee8fb7-c661-4989-d689-f79cbb804ad6"
      },
      "execution_count": null,
      "outputs": [
        {
          "output_type": "execute_result",
          "data": {
            "text/plain": [
              "np.float64(1.0)"
            ]
          },
          "metadata": {},
          "execution_count": 10
        }
      ]
    },
    {
      "cell_type": "code",
      "source": [
        "tanh(-1000)"
      ],
      "metadata": {
        "colab": {
          "base_uri": "https://localhost:8080/"
        },
        "id": "ZdUATi5-t1Qw",
        "outputId": "5fc1383a-8c9c-4f03-c008-fa417a0d89c1"
      },
      "execution_count": null,
      "outputs": [
        {
          "output_type": "stream",
          "name": "stderr",
          "text": [
            "/tmp/ipython-input-4119093387.py:4: RuntimeWarning: overflow encountered in exp\n",
            "  return (np.exp(z)-np.exp(-z))/(np.exp(z)+np.exp(-z))\n",
            "/tmp/ipython-input-4119093387.py:4: RuntimeWarning: invalid value encountered in scalar divide\n",
            "  return (np.exp(z)-np.exp(-z))/(np.exp(z)+np.exp(-z))\n"
          ]
        },
        {
          "output_type": "execute_result",
          "data": {
            "text/plain": [
              "np.float64(nan)"
            ]
          },
          "metadata": {},
          "execution_count": 12
        }
      ]
    },
    {
      "cell_type": "code",
      "source": [
        "# RELU FUNCTION\n",
        "def Relu(z):\n",
        "  return np.maximum(0,z)"
      ],
      "metadata": {
        "id": "r8ZF_gr8t82k"
      },
      "execution_count": null,
      "outputs": []
    },
    {
      "cell_type": "code",
      "source": [
        "# FOR ALL POSITIVE VALUES IT IS X\n",
        "Relu(3)"
      ],
      "metadata": {
        "colab": {
          "base_uri": "https://localhost:8080/"
        },
        "id": "c3AMYL4iuQpI",
        "outputId": "7f2e4127-a6ed-4e43-a3b6-544a0d985e2c"
      },
      "execution_count": null,
      "outputs": [
        {
          "output_type": "execute_result",
          "data": {
            "text/plain": [
              "np.int64(3)"
            ]
          },
          "metadata": {},
          "execution_count": 14
        }
      ]
    },
    {
      "cell_type": "code",
      "source": [
        "# FOR ALL NEGATIVE VALUES IT IS 0\n",
        "Relu(-1)"
      ],
      "metadata": {
        "colab": {
          "base_uri": "https://localhost:8080/"
        },
        "id": "VdPULIFruVfe",
        "outputId": "8e5811b5-36f8-43d7-bdd8-c1196f5380fa"
      },
      "execution_count": null,
      "outputs": [
        {
          "output_type": "execute_result",
          "data": {
            "text/plain": [
              "np.int64(0)"
            ]
          },
          "metadata": {},
          "execution_count": 16
        }
      ]
    },
    {
      "cell_type": "code",
      "source": [
        "# FOR 0 IT IS ALSO 0\n",
        "Relu(0)"
      ],
      "metadata": {
        "colab": {
          "base_uri": "https://localhost:8080/"
        },
        "id": "DbajmZrDuWmg",
        "outputId": "e4d63218-255f-4558-9f70-8d41b0dfe0d3"
      },
      "execution_count": null,
      "outputs": [
        {
          "output_type": "execute_result",
          "data": {
            "text/plain": [
              "np.int64(0)"
            ]
          },
          "metadata": {},
          "execution_count": 17
        }
      ]
    },
    {
      "cell_type": "code",
      "source": [
        "# LEAKY RELU\n",
        "def Leaky_Relu(z):\n",
        "  return np.maximum(0.1*z,z)"
      ],
      "metadata": {
        "id": "toE_O2E0umtz"
      },
      "execution_count": null,
      "outputs": []
    },
    {
      "cell_type": "code",
      "source": [
        "# FOR POSITIVE VALUES IT IS Z ONLY\n",
        "Leaky_Relu(100)"
      ],
      "metadata": {
        "colab": {
          "base_uri": "https://localhost:8080/"
        },
        "id": "-3V0Ukspuyc8",
        "outputId": "87d5d518-a806-4812-df82-866bd8ceb756"
      },
      "execution_count": null,
      "outputs": [
        {
          "output_type": "execute_result",
          "data": {
            "text/plain": [
              "np.float64(100.0)"
            ]
          },
          "metadata": {},
          "execution_count": 20
        }
      ]
    },
    {
      "cell_type": "code",
      "source": [
        "# FOR ALL NEGATIVE VALUE IT IS THEIR 1/10TH OF THEIR VALUE\n",
        "Leaky_Relu(-100)"
      ],
      "metadata": {
        "colab": {
          "base_uri": "https://localhost:8080/"
        },
        "id": "J2GEhvJCu6fW",
        "outputId": "bce105bb-147a-4158-c317-2897f8db14db"
      },
      "execution_count": null,
      "outputs": [
        {
          "output_type": "execute_result",
          "data": {
            "text/plain": [
              "np.float64(-10.0)"
            ]
          },
          "metadata": {},
          "execution_count": 21
        }
      ]
    },
    {
      "cell_type": "code",
      "source": [],
      "metadata": {
        "id": "4VW8Mq-UvSG2"
      },
      "execution_count": null,
      "outputs": []
    }
  ]
}