{
  "nbformat": 4,
  "nbformat_minor": 0,
  "metadata": {
    "colab": {
      "provenance": []
    },
    "kernelspec": {
      "name": "python3",
      "display_name": "Python 3"
    },
    "language_info": {
      "name": "python"
    }
  },
  "cells": [
    {
      "cell_type": "markdown",
      "source": [
        "\n",
        "\n",
        "> MATRICES BASICS\n",
        "\n"
      ],
      "metadata": {
        "id": "31Gk5RFXC2R6"
      }
    },
    {
      "cell_type": "code",
      "execution_count": null,
      "metadata": {
        "id": "BMHInPLHCpJz"
      },
      "outputs": [],
      "source": [
        "# MATRICS ARE NUMBERS OR EQUATIONS ARRANGED INTO ROWS AND/OR COLUMNS"
      ]
    },
    {
      "cell_type": "markdown",
      "source": [],
      "metadata": {
        "id": "GXlcSQkwY6Ln"
      }
    },
    {
      "cell_type": "code",
      "source": [
        "import numpy as np"
      ],
      "metadata": {
        "id": "XC6ystLRC5pI"
      },
      "execution_count": null,
      "outputs": []
    },
    {
      "cell_type": "code",
      "source": [
        "# NUMPY ARRAYS ARE NOTHING BUT MATRICES\n",
        "matrix1=np.array([[180,200,220],[24,36,40],[12,18,20]])\n",
        "matrix2=np.array([[80,90,100],[10,16,20],[8,10,10]])"
      ],
      "metadata": {
        "id": "3PWfvBeIC8Me"
      },
      "execution_count": null,
      "outputs": []
    },
    {
      "cell_type": "code",
      "source": [
        "# TO SUBTRACT TO MATRICES USE\n",
        "matrix1-matrix2"
      ],
      "metadata": {
        "colab": {
          "base_uri": "https://localhost:8080/"
        },
        "id": "EG9mBVLEDaep",
        "outputId": "db36cdc4-09c8-4b14-8565-a31d22322802"
      },
      "execution_count": null,
      "outputs": [
        {
          "output_type": "execute_result",
          "data": {
            "text/plain": [
              "array([[100, 110, 120],\n",
              "       [ 14,  20,  20],\n",
              "       [  4,   8,  10]])"
            ]
          },
          "metadata": {},
          "execution_count": 5
        }
      ]
    },
    {
      "cell_type": "code",
      "source": [
        "# BROADCASTING IN NUMPY\n",
        "# CAUTION DO NOT USE\n",
        "# HERE WE CAN SEE THAT MATRICES HAVE NOT MULTIPLIED BY DOT PRODUCT THIS IS CALLED BROADCASTING WHICH IS NUMPY TECHNIQUE\n",
        "# SO HERE IT ASSUMES SINCE IN MATRIX 1 IT IS ONLY ONE ARRAY AND IN MATRIX 2 IT IS 3 ARRAYS, IT WILL CONVERT MATRIX 1 TO  3 ARRAYS WHERE IT WILL REPEAT THE 1 SAME ARRAY 3 TIMES\n",
        "matrix1=np.array([100,200,300])\n",
        "matrix2=np.array([[30,40,50],[10,15,20],[5,10,25]])\n",
        "matrix1*matrix2"
      ],
      "metadata": {
        "colab": {
          "base_uri": "https://localhost:8080/"
        },
        "id": "4n9Q64NEDjcH",
        "outputId": "5c7bafcb-6c08-45c7-f15b-c8606b338283"
      },
      "execution_count": null,
      "outputs": [
        {
          "output_type": "execute_result",
          "data": {
            "text/plain": [
              "array([[ 3000,  8000, 15000],\n",
              "       [ 1000,  3000,  6000],\n",
              "       [  500,  2000,  7500]])"
            ]
          },
          "metadata": {},
          "execution_count": 6
        }
      ]
    },
    {
      "cell_type": "code",
      "source": [
        "# DOT PRODUCT\n",
        "# SO WE USE DOT FUNCTION TO PERFORM DOT PRODUCT MULTIPLICATION USING DOT FUNCTION\n",
        "matrix1=np.array([100,200,300])\n",
        "matrix2=np.array([[30,40,50],[10,15,20],[5,10,25]])\n",
        "np.dot(matrix1,matrix2)"
      ],
      "metadata": {
        "colab": {
          "base_uri": "https://localhost:8080/"
        },
        "id": "D3zLpaB9DpwC",
        "outputId": "33afd3d7-eb8e-43d8-ca62-08ec05c01da9"
      },
      "execution_count": null,
      "outputs": [
        {
          "output_type": "execute_result",
          "data": {
            "text/plain": [
              "array([ 6500, 10000, 16500])"
            ]
          },
          "metadata": {},
          "execution_count": 10
        }
      ]
    },
    {
      "cell_type": "code",
      "source": [
        "# EXERCISE\n",
        "revenue=np.array([[200,220,250],[68,79,105],[110,140,180],[80,85,90]])\n",
        "currency=np.array(75)\n",
        "np.dot(revenue,currency)"
      ],
      "metadata": {
        "colab": {
          "base_uri": "https://localhost:8080/"
        },
        "id": "LD1VLpndEbzq",
        "outputId": "84f42a6b-8681-4fdb-b480-cfac5039f084"
      },
      "execution_count": null,
      "outputs": [
        {
          "output_type": "execute_result",
          "data": {
            "text/plain": [
              "array([[15000, 16500, 18750],\n",
              "       [ 5100,  5925,  7875],\n",
              "       [ 8250, 10500, 13500],\n",
              "       [ 6000,  6375,  6750]])"
            ]
          },
          "metadata": {},
          "execution_count": 12
        }
      ]
    },
    {
      "cell_type": "code",
      "source": [
        "units_sold=np.array([[50,60,25],[10,13,5],[40,70,52]])\n",
        "price_per_unit=np.array([20,30,15])\n",
        "np.dot(price_per_unit,units_sold)"
      ],
      "metadata": {
        "colab": {
          "base_uri": "https://localhost:8080/"
        },
        "id": "VydidrJlee4t",
        "outputId": "345c9386-f448-4808-96a9-8593dd74d028"
      },
      "execution_count": null,
      "outputs": [
        {
          "output_type": "execute_result",
          "data": {
            "text/plain": [
              "array([1900, 2640, 1430])"
            ]
          },
          "metadata": {},
          "execution_count": 16
        }
      ]
    },
    {
      "cell_type": "code",
      "source": [],
      "metadata": {
        "id": "RRd5dIWMfwSb"
      },
      "execution_count": null,
      "outputs": []
    }
  ]
}